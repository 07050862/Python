{
 "cells": [
  {
   "cell_type": "code",
   "execution_count": 85,
   "metadata": {},
   "outputs": [
    {
     "name": "stdout",
     "output_type": "stream",
     "text": [
      "Requirement already satisfied: requests in d:\\d_download\\anaconda3\\anaconda3\\lib\\site-packages (2.24.0)\n",
      "Requirement already satisfied: urllib3!=1.25.0,!=1.25.1,<1.26,>=1.21.1 in d:\\d_download\\anaconda3\\anaconda3\\lib\\site-packages (from requests) (1.25.9)\n",
      "Requirement already satisfied: certifi>=2017.4.17 in d:\\d_download\\anaconda3\\anaconda3\\lib\\site-packages (from requests) (2020.6.20)\n",
      "Requirement already satisfied: chardet<4,>=3.0.2 in d:\\d_download\\anaconda3\\anaconda3\\lib\\site-packages (from requests) (3.0.4)\n",
      "Requirement already satisfied: idna<3,>=2.5 in d:\\d_download\\anaconda3\\anaconda3\\lib\\site-packages (from requests) (2.10)\n",
      "Requirement already satisfied: beautifulsoup4 in d:\\d_download\\anaconda3\\anaconda3\\lib\\site-packages (4.9.1)\n",
      "Requirement already satisfied: soupsieve>1.2 in d:\\d_download\\anaconda3\\anaconda3\\lib\\site-packages (from beautifulsoup4) (2.0.1)\n"
     ]
    }
   ],
   "source": [
    "!pip install requests\n",
    "!pip install beautifulsoup4"
   ]
  },
  {
   "cell_type": "code",
   "execution_count": 86,
   "metadata": {},
   "outputs": [
    {
     "name": "stdout",
     "output_type": "stream",
     "text": [
      "請輸入你的學號：07050862\n"
     ]
    }
   ],
   "source": [
    "studentID = input('請輸入你的學號：')"
   ]
  },
  {
   "cell_type": "code",
   "execution_count": 87,
   "metadata": {},
   "outputs": [
    {
     "name": "stdout",
     "output_type": "stream",
     "text": [
      "姓名:  李柏賢\n",
      "就讀科系:  電腦與通訊工程學系                      \n"
     ]
    }
   ],
   "source": [
    "import requests\n",
    "import bs4\n",
    "headers = {\n",
    "'Host': 'eportfolio.mcu.edu.tw',\n",
    "'Connection': 'keep-alive',\n",
    "'Cache-Control': 'max-age=0',\n",
    "'Upgrade-Insecure-Requests': '1',\n",
    "'User-Agent': 'Mozilla/5.0 (Windows NT 10.0; Win64; x64) AppleWebKit/537.36 (KHTML, like Gecko) Chrome/90.0.4430.93 Safari/537.36',\n",
    "'Accept': 'text/html,application/xhtml+xml,application/xml;q=0.9,image/avif,image/webp,image/apng,*/*;q=0.8,application/signed-exchange;v=b3;q=0.9',\n",
    "'Referer': 'http://eportfolio.mcu.edu.tw/ePortfolio/Student/page01/index.asp',\n",
    "'Accept-Encoding': 'gzip, deflate',\n",
    "'Accept-Language': 'zh-TW,zh;q=0.9',\n",
    "'Cookie': 'login=0; Lng=C; std%5Fno='+studentID+'; gsha=0xa49b717c31165c6dbf3b57da6be614cc7249b5cc; pg=1; ASPSESSIONIDCAQARSSR=IKLPEOPCAGOFPLAPMAHGFEBM',\n",
    "\n",
    "}\n",
    "\n",
    "res = requests.get(\"http://eportfolio.mcu.edu.tw/ePortfolio/Student/page00/index.asp?ch=0\", headers=headers)\n",
    "\n",
    "res.encoding = res.apparent_encoding \n",
    "\n",
    "html = res.text \n",
    "\n",
    "\n",
    "\n",
    "objSoup = bs4.BeautifulSoup(html, 'lxml')         #lxml是解析HTML文件方式\n",
    "show = objSoup.text.split('\\n')\n",
    "print(\"姓名: \"+show[33])\n",
    "print(\"就讀科系: \"+show[40])"
   ]
  },
  {
   "cell_type": "code",
   "execution_count": 88,
   "metadata": {},
   "outputs": [],
   "source": [
    "import requests\n",
    "import bs4\n",
    "headers = {\n",
    "'Host': 'eportfolio.mcu.edu.tw',\n",
    "'Connection': 'keep-alive',\n",
    "'Cache-Control': 'max-age=0',\n",
    "'Upgrade-Insecure-Requests': '1',\n",
    "'User-Agent': 'Mozilla/5.0 (Windows NT 10.0; Win64; x64) AppleWebKit/537.36 (KHTML, like Gecko) Chrome/90.0.4430.93 Safari/537.36',\n",
    "'Accept': 'text/html,application/xhtml+xml,application/xml;q=0.9,image/avif,image/webp,image/apng,*/*;q=0.8,application/signed-exchange;v=b3;q=0.9',\n",
    "'Referer': 'http://eportfolio.mcu.edu.tw/ePortfolio/Student/page01/index.asp',\n",
    "'Accept-Encoding': 'gzip, deflate',\n",
    "'Accept-Language': 'zh-TW,zh;q=0.9',\n",
    "'Cookie': 'login=0; Lng=C; std%5Fno='+studentID+'; gsha=0xa49b717c31165c6dbf3b57da6be614cc7249b5cc; pg=1; ASPSESSIONIDCAQARSSR=IKLPEOPCAGOFPLAPMAHGFEBM',\n",
    "\n",
    "}\n",
    "\n",
    "res = requests.get(\"http://eportfolio.mcu.edu.tw/ePortfolio/Student/page01/index.asp?ch=2\", headers=headers)\n",
    "\n",
    "res.encoding = res.apparent_encoding \n",
    "html = res.text \n",
    "#print(html)\n",
    "\n",
    "\n",
    "\n",
    "soup = bs4.BeautifulSoup(html, 'lxml')         #lxml是解析HTML文件方式\n",
    "#print(soup)\n",
    "\n",
    "\n",
    "\n",
    "\n",
    "\n"
   ]
  },
  {
   "cell_type": "code",
   "execution_count": 89,
   "metadata": {},
   "outputs": [],
   "source": [
    "file1 = open(show[33]+studentID+\".html\", 'w',encoding=\"UTF-8-sig\")\n",
    "\n",
    "file1.write(html)\n",
    "file1.close()"
   ]
  },
  {
   "cell_type": "code",
   "execution_count": 90,
   "metadata": {},
   "outputs": [
    {
     "data": {
      "text/plain": [
       "True"
      ]
     },
     "execution_count": 90,
     "metadata": {},
     "output_type": "execute_result"
    }
   ],
   "source": [
    "import webbrowser\n",
    "webbrowser.open('https://www.mcu.edu.tw/student/校園IC卡照片檔/student/'+studentID+'.jpg')"
   ]
  }
 ],
 "metadata": {
  "kernelspec": {
   "display_name": "Python 3",
   "language": "python",
   "name": "python3"
  },
  "language_info": {
   "codemirror_mode": {
    "name": "ipython",
    "version": 3
   },
   "file_extension": ".py",
   "mimetype": "text/x-python",
   "name": "python",
   "nbconvert_exporter": "python",
   "pygments_lexer": "ipython3",
   "version": "3.8.3"
  }
 },
 "nbformat": 4,
 "nbformat_minor": 4
}
